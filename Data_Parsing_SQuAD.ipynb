{
 "cells": [
  {
   "cell_type": "code",
   "execution_count": 1,
   "metadata": {},
   "outputs": [],
   "source": [
    "import re\n",
    "import mysql.connector\n",
    "import numpy as np"
   ]
  },
  {
   "cell_type": "code",
   "execution_count": 2,
   "metadata": {},
   "outputs": [],
   "source": [
    "mydb = mysql.connector.connect(\n",
    "    host='127.0.0.1', \n",
    "    user='Yuxin Xiao', \n",
    "    password='19961002XYX',\n",
    "    database='CS510Project')\n",
    "mycursor = mydb.cursor()"
   ]
  },
  {
   "cell_type": "code",
   "execution_count": 44,
   "metadata": {},
   "outputs": [],
   "source": [
    "mycursor.execute(\"CREATE TABLE NEW_Sentences (Sentence_id INT, Sentence TEXT)\")\n",
    "mycursor.execute(\"CREATE TABLE NEW_Words (Word TEXT, Count INT, Inverted_index LONGTEXT)\")"
   ]
  },
  {
   "cell_type": "code",
   "execution_count": 43,
   "metadata": {},
   "outputs": [],
   "source": [
    "mycursor.execute(\"DROP TABLE NEW_Sentences\")\n",
    "mycursor.execute(\"DROP TABLE NEW_Words\")"
   ]
  },
  {
   "cell_type": "code",
   "execution_count": 45,
   "metadata": {},
   "outputs": [],
   "source": [
    "def insert_sentences(Id, Sentence):\n",
    "    sql = ('INSERT INTO NEW_Sentences '\n",
    "           '(Sentence_id, Sentence) '\n",
    "           'VALUES (%s, %s)')\n",
    "    val = (Id, Sentence)\n",
    "    mycursor.execute(sql, val)"
   ]
  },
  {
   "cell_type": "code",
   "execution_count": 46,
   "metadata": {},
   "outputs": [
    {
     "name": "stdout",
     "output_type": "stream",
     "text": [
      "0\n",
      "5000\n",
      "10000\n",
      "15000\n",
      "20000\n",
      "25000\n",
      "30000\n",
      "35000\n",
      "40000\n",
      "45000\n",
      "50000\n",
      "55000\n"
     ]
    }
   ],
   "source": [
    "with open(\"sentences-remove-zeros.txt\", \"r\", encoding='utf-8', errors='ignore') as file:\n",
    "    sentences = file.read().split('\\n')\n",
    "    for Id, Sentence in enumerate(sentences):\n",
    "        insert_sentences(Id, Sentence)\n",
    "        \n",
    "        if Id % 5000 == 0:\n",
    "            print(Id)"
   ]
  },
  {
   "cell_type": "code",
   "execution_count": 47,
   "metadata": {},
   "outputs": [],
   "source": [
    "mycursor.execute(\"SELECT * FROM NEW_Sentences\")\n",
    "myresult = mycursor.fetchall()"
   ]
  },
  {
   "cell_type": "code",
   "execution_count": 51,
   "metadata": {},
   "outputs": [
    {
     "name": "stdout",
     "output_type": "stream",
     "text": [
      "Creating Dictionary\n",
      "58148\n",
      "5000\n",
      "10000\n",
      "15000\n",
      "20000\n",
      "25000\n",
      "30000\n",
      "35000\n",
      "40000\n",
      "45000\n",
      "50000\n",
      "55000\n"
     ]
    }
   ],
   "source": [
    "print(\"Creating Dictionary\")\n",
    "print(len(myresult))\n",
    "   \n",
    "count_dict = {}\n",
    "index_dict = {}\n",
    "\n",
    "num = 0\n",
    "for row in myresult:\n",
    "    \n",
    "    num += 1\n",
    "    if num % 5000 == 0:\n",
    "        print(num)\n",
    "    \n",
    "    index = str(row[0])\n",
    "    sentence = re.sub(r'[^\\w\\s]', \"\", row[1]).split()\n",
    "        \n",
    "    for word in sentence:\n",
    "        word = word.lower()\n",
    "        \n",
    "        if word in count_dict:\n",
    "            count_dict[word] += 1\n",
    "            index_dict[word] += (' ' + index)\n",
    "        else:\n",
    "            count_dict[word] = 1\n",
    "            index_dict[word] = index"
   ]
  },
  {
   "cell_type": "code",
   "execution_count": 53,
   "metadata": {},
   "outputs": [
    {
     "name": "stdout",
     "output_type": "stream",
     "text": [
      "Writing into Database\n",
      "78812\n",
      "5000\n",
      "10000\n",
      "15000\n",
      "20000\n",
      "25000\n",
      "30000\n",
      "35000\n",
      "40000\n",
      "45000\n",
      "50000\n",
      "55000\n",
      "60000\n",
      "65000\n",
      "70000\n",
      "75000\n"
     ]
    }
   ],
   "source": [
    "print(\"Writing into Database\")\n",
    "print(len(count_dict.keys()))\n",
    "\n",
    "num = 0\n",
    "for word in count_dict.keys():\n",
    "    \n",
    "    num += 1\n",
    "    if num % 5000 == 0:\n",
    "        print(num)\n",
    "    \n",
    "    count = count_dict[word]\n",
    "    index = index_dict[word]\n",
    "\n",
    "    insert_sql = \"INSERT INTO NEW_Words (Word, Count, Inverted_index) VALUES (%s, %s, %s)\"\n",
    "    insert_val = (word, count, index)\n",
    "    mycursor.execute(insert_sql, insert_val)"
   ]
  },
  {
   "cell_type": "code",
   "execution_count": 54,
   "metadata": {},
   "outputs": [],
   "source": [
    "mycursor.execute(\"SELECT * FROM NEW_Words\")\n",
    "myresult = mycursor.fetchall()"
   ]
  },
  {
   "cell_type": "code",
   "execution_count": 57,
   "metadata": {},
   "outputs": [],
   "source": [
    "mydb.commit()"
   ]
  },
  {
   "cell_type": "code",
   "execution_count": 60,
   "metadata": {},
   "outputs": [],
   "source": [
    "mycursor.close()\n",
    "mydb.close()"
   ]
  }
 ],
 "metadata": {
  "kernelspec": {
   "display_name": "Python 3",
   "language": "python",
   "name": "python3"
  },
  "language_info": {
   "codemirror_mode": {
    "name": "ipython",
    "version": 3
   },
   "file_extension": ".py",
   "mimetype": "text/x-python",
   "name": "python",
   "nbconvert_exporter": "python",
   "pygments_lexer": "ipython3",
   "version": "3.6.5"
  }
 },
 "nbformat": 4,
 "nbformat_minor": 2
}
