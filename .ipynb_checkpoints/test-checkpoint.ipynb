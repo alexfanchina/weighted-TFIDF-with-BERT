{
 "cells": [
  {
   "cell_type": "code",
   "execution_count": 1,
   "metadata": {},
   "outputs": [
    {
     "name": "stdout",
     "output_type": "stream",
     "text": [
      "Loading sentences and vectors. This may take a few minutes... \n",
      "(140310, 768)\n",
      "Loading data done. \n",
      "[(0, [0, 1]), (1, [2]), (2, [3]), (3, [4]), (4, [5, 6]), (5, [7]), (6, [8, 9]), (7, [10, 11]), (8, [12]), (9, [13, 14])]\n"
     ]
    }
   ],
   "source": [
    "import faiss\n",
    "import joblib\n",
    "import numpy as np\n",
    "\n",
    "FILE_VEC = 'data/res.pkl'\n",
    "FILE_SUBSENTENCE = 'data/extend_mask_input.txt'\n",
    "FILE_ALL_SENTENCE = 'data/All Sentences.txt'\n",
    "\n",
    "def load_data():\n",
    "\tglobal vec\n",
    "\tglobal substcs\n",
    "\tglobal sentences\n",
    "\tprint('Loading sentences and vectors. This may take a few minutes... ')\n",
    "\twith open(FILE_VEC, 'rb') as f:\n",
    "\t\tvec = joblib.load(f)\n",
    "\tsubstcs = []\n",
    "\twith open(FILE_SUBSENTENCE, 'r') as f:\n",
    "\t    substcs_ = f.readlines()\n",
    "\tfor s in substcs_:\n",
    "\t\tsubstcs.append(s.split('\\t'))\n",
    "\twith open(FILE_ALL_SENTENCE, 'r') as f:\n",
    "\t\tsentences = f.readlines()\n",
    "\tprint(np.shape(vec))\n",
    "\tprint('Loading data done. ')\n",
    "\n",
    "\n",
    "load_data()\n",
    "stc_substc_map = {}\n",
    "for i, substc in enumerate(substcs):\n",
    "\tkey_sentence = int(substc[0])\n",
    "\tif key_sentence not in stc_substc_map.keys():\n",
    "\t\tstc_substc_map[key_sentence] = []\n",
    "\tstc_substc_map[key_sentence].append(i)\n",
    "\n",
    "print(list(stc_substc_map.items())[: 10])\n"
   ]
  },
  {
   "cell_type": "code",
   "execution_count": 2,
   "metadata": {},
   "outputs": [
    {
     "data": {
      "text/plain": [
       "'b\"(\\'How to handle a 1.5 year old when hitting?\\',)\"\\n'"
      ]
     },
     "execution_count": 2,
     "metadata": {},
     "output_type": "execute_result"
    }
   ],
   "source": [
    "sentences[0]"
   ]
  },
  {
   "cell_type": "code",
   "execution_count": 3,
   "metadata": {},
   "outputs": [
    {
     "data": {
      "text/plain": [
       "[['0', 'How to handle a 1.5 year old when hitting?\\n'],\n",
       " ['0', 'How to handle a WHEN when hitting ?\\n']]"
      ]
     },
     "execution_count": 3,
     "metadata": {},
     "output_type": "execute_result"
    }
   ],
   "source": [
    "substcs[0:2]"
   ]
  },
  {
   "cell_type": "code",
   "execution_count": 5,
   "metadata": {},
   "outputs": [],
   "source": [
    "import mysql.connector\n",
    "import math\n",
    "\n",
    "MYSQL_HOST = 'localhost'\n",
    "MYSQL_USER = 'root'\n",
    "MYSQL_PASSWD = '12345678'\n",
    "MYSQL_DB = 'cs510'\n",
    "\n",
    "cnx = mysql.connector.connect(host=MYSQL_HOST, user=MYSQL_USER, passwd=MYSQL_PASSWD, database=MYSQL_DB)\n",
    "cursor = cnx.cursor()\n",
    "cursor.execute('SELECT Id, Sentences FROM sentences WHERE Id <= 100000 AND Subject_id=0')\n",
    "questions = cursor.fetchall()"
   ]
  },
  {
   "cell_type": "code",
   "execution_count": 6,
   "metadata": {},
   "outputs": [
    {
     "data": {
      "text/plain": [
       "list"
      ]
     },
     "execution_count": 6,
     "metadata": {},
     "output_type": "execute_result"
    }
   ],
   "source": [
    "type(questions)"
   ]
  },
  {
   "cell_type": "code",
   "execution_count": 7,
   "metadata": {},
   "outputs": [
    {
     "data": {
      "text/plain": [
       "(1, 'How to handle a 1.5 year old when hitting?')"
      ]
     },
     "execution_count": 7,
     "metadata": {},
     "output_type": "execute_result"
    }
   ],
   "source": [
    "questions[0]"
   ]
  },
  {
   "cell_type": "code",
   "execution_count": 8,
   "metadata": {},
   "outputs": [
    {
     "data": {
      "text/plain": [
       "(992, \"How does China view North Korea's claimed nuclear weapons capability?\")"
      ]
     },
     "execution_count": 8,
     "metadata": {},
     "output_type": "execute_result"
    }
   ],
   "source": [
    "questions[76]"
   ]
  },
  {
   "cell_type": "code",
   "execution_count": 10,
   "metadata": {},
   "outputs": [
    {
     "data": {
      "text/plain": [
       "'b\"(\\'China is more concerned with threat from US or Japan than North Korea.\\',)\"\\n'"
      ]
     },
     "execution_count": 10,
     "metadata": {},
     "output_type": "execute_result"
    }
   ],
   "source": [
    "sentences[992]"
   ]
  },
  {
   "cell_type": "code",
   "execution_count": 11,
   "metadata": {},
   "outputs": [
    {
     "data": {
      "text/plain": [
       "'b\\'(\"How does China view North Korea\\\\\\'s claimed nuclear weapons capability?\",)\\'\\n'"
      ]
     },
     "execution_count": 11,
     "metadata": {},
     "output_type": "execute_result"
    }
   ],
   "source": [
    "sentences[991]"
   ]
  },
  {
   "cell_type": "code",
   "execution_count": 12,
   "metadata": {},
   "outputs": [],
   "source": [
    "substc_all_questions_indices = []\n",
    "for q in questions:\n",
    "\tidx_in_all_sentences = q[0] - 1\n",
    "\tsubstc_all_questions_indices.extend(stc_substc_map[idx_in_all_sentences])"
   ]
  },
  {
   "cell_type": "code",
   "execution_count": 15,
   "metadata": {},
   "outputs": [],
   "source": [
    "t = substc_all_questions_indices[:10]"
   ]
  },
  {
   "cell_type": "code",
   "execution_count": 16,
   "metadata": {},
   "outputs": [
    {
     "data": {
      "text/plain": [
       "array([list(['0', 'How to handle a 1.5 year old when hitting?\\n']),\n",
       "       list(['0', 'How to handle a WHEN when hitting ?\\n']),\n",
       "       list(['18', 'How can I avoid getting sick in China?\\n']),\n",
       "       list(['18', 'How can I avoid getting sick in WHERE ?\\n']),\n",
       "       list(['30', 'How do male penguins survive without eating for four months?\\n']),\n",
       "       list(['30', 'How do male penguins survive without eating for WHEN ?\\n']),\n",
       "       list(['39', 'How do I remove candle wax from a polar fleece jacket?\\n']),\n",
       "       list(['44', 'How do I find an out of print book?\\n']),\n",
       "       list(['49', 'How to clean ickiness off a plastic shower curtain?\\n']),\n",
       "       list(['59', 'How do I take my money out of 401k without penalty?\\n'])],\n",
       "      dtype=object)"
      ]
     },
     "execution_count": 16,
     "metadata": {},
     "output_type": "execute_result"
    }
   ],
   "source": [
    "np.array(substcs)[t]"
   ]
  },
  {
   "cell_type": "code",
   "execution_count": 18,
   "metadata": {},
   "outputs": [
    {
     "data": {
      "text/plain": [
       "array([list(['0', 'How to handle a 1.5 year old when hitting?\\n']),\n",
       "       list(['0', 'How to handle a WHEN when hitting ?\\n']),\n",
       "       list(['18', 'How can I avoid getting sick in China?\\n']), ...,\n",
       "       list(['99963', 'how to use a punett square?\\n']),\n",
       "       list(['99984', 'how do you get big muslces?\\n']),\n",
       "       list(['99994', 'how do you regain trust?\\n'])], dtype=object)"
      ]
     },
     "execution_count": 18,
     "metadata": {},
     "output_type": "execute_result"
    }
   ],
   "source": [
    "np.array(substcs)[substc_all_questions_indices]"
   ]
  },
  {
   "cell_type": "code",
   "execution_count": 20,
   "metadata": {},
   "outputs": [
    {
     "data": {
      "text/plain": [
       "array([[-0.12166228,  0.28759748, -0.00840971, ..., -0.40092662,\n",
       "        -0.3387638 , -0.24520923],\n",
       "       [-0.15421787, -0.02686873, -0.1641148 , ..., -0.1896474 ,\n",
       "        -0.7795876 , -0.07048735],\n",
       "       [ 0.1858926 ,  0.18815136,  0.0732088 , ...,  0.00373535,\n",
       "        -0.30432594,  0.15664598],\n",
       "       ...,\n",
       "       [ 0.41323888,  0.01448349, -0.00366593, ..., -0.40850866,\n",
       "         0.3433114 ,  0.22440572],\n",
       "       [ 0.39823997,  0.23184377,  0.17375211, ..., -0.21260104,\n",
       "        -0.20224953,  0.02836458],\n",
       "       [-0.02527337,  0.23238364,  0.12548296, ..., -0.1149846 ,\n",
       "        -0.14839521, -0.06032471]], dtype=float32)"
      ]
     },
     "execution_count": 20,
     "metadata": {},
     "output_type": "execute_result"
    }
   ],
   "source": [
    "vec[substc_all_questions_indices]"
   ]
  },
  {
   "cell_type": "code",
   "execution_count": 21,
   "metadata": {},
   "outputs": [
    {
     "data": {
      "text/plain": [
       "140315"
      ]
     },
     "execution_count": 21,
     "metadata": {},
     "output_type": "execute_result"
    }
   ],
   "source": [
    "len(substcs)"
   ]
  },
  {
   "cell_type": "code",
   "execution_count": 22,
   "metadata": {},
   "outputs": [
    {
     "data": {
      "text/plain": [
       "140310"
      ]
     },
     "execution_count": 22,
     "metadata": {},
     "output_type": "execute_result"
    }
   ],
   "source": [
    "len(vec)"
   ]
  },
  {
   "cell_type": "code",
   "execution_count": 26,
   "metadata": {},
   "outputs": [],
   "source": [
    "import pickle\n",
    "header = 'This file includes indices for questions in `res.pkl` or `extend_mask_input (1).txt`'\n",
    "np.savetxt('data/questions_indices.txt', substc_all_questions_indices, header=header, fmt='%d')\n",
    "with open('data/questions_vec.pkl', 'wb') as f:\n",
    "\tpickle.dump(vec[substc_all_questions_indices], f)"
   ]
  },
  {
   "cell_type": "code",
   "execution_count": null,
   "metadata": {},
   "outputs": [],
   "source": []
  }
 ],
 "metadata": {
  "kernelspec": {
   "display_name": "Python 3",
   "language": "python",
   "name": "python3"
  },
  "language_info": {
   "codemirror_mode": {
    "name": "ipython",
    "version": 3
   },
   "file_extension": ".py",
   "mimetype": "text/x-python",
   "name": "python",
   "nbconvert_exporter": "python",
   "pygments_lexer": "ipython3",
   "version": "3.6.6"
  }
 },
 "nbformat": 4,
 "nbformat_minor": 2
}
